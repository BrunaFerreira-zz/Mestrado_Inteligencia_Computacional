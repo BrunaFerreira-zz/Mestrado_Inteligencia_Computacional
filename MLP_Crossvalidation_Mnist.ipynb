{
  "nbformat": 4,
  "nbformat_minor": 0,
  "metadata": {
    "colab": {
      "name": "MLP_Crossvalidation_Mnist.ipynb",
      "provenance": []
    },
    "kernelspec": {
      "name": "python3",
      "display_name": "Python 3"
    }
  },
  "cells": [
    {
      "cell_type": "markdown",
      "metadata": {
        "id": "t4r3AipDMPHn"
      },
      "source": [
        "Disciplina : Inteligência Computacional \n",
        "\n",
        "Nome: Bruna Ferreira"
      ]
    },
    {
      "cell_type": "markdown",
      "metadata": {
        "id": "jYdhaHh1CrYf"
      },
      "source": [
        "Dataset: MNIST (“Instituto Nacional de Padrões e Tecnologia Modificado”)\n",
        "\n",
        "Descrição: Contém imagens de dígitos escritos à mão. \n",
        "\n",
        "Objetivo: Construir um modelo que identifique corretamente os dígitos de um conjunto de dados de dezenas de milhares de dígitos escritos à mão.\n",
        "\n",
        "Referencia : https://towardsdatascience.com/image-classification-in-10-minutes-with-mnist-dataset-54c35b77a38d"
      ]
    },
    {
      "cell_type": "code",
      "metadata": {
        "id": "Bbs5dV-Vxbcu"
      },
      "source": [
        "import numpy as np\n",
        "import pandas as pd\n",
        "import matplotlib.pyplot as plt\n",
        "from sklearn import model_selection\n",
        "from sklearn.model_selection import KFold\n",
        "from sklearn.model_selection import StratifiedKFold\n",
        "from sklearn.metrics import confusion_matrix\n",
        "import seaborn as sns"
      ],
      "execution_count": 20,
      "outputs": []
    },
    {
      "cell_type": "markdown",
      "metadata": {
        "id": "_5qLmadHxiEV"
      },
      "source": [
        "### 0. Leitura Dados Mnist "
      ]
    },
    {
      "cell_type": "code",
      "metadata": {
        "id": "QynHIJPlHx-a"
      },
      "source": [
        "#Download banco de dados\n",
        "import tensorflow as tf\n",
        "(x_train, y_train), (x_test, y_test) = tf.keras.datasets.mnist.load_data()"
      ],
      "execution_count": 2,
      "outputs": []
    },
    {
      "cell_type": "markdown",
      "metadata": {
        "id": "XFFvqx49xp8C"
      },
      "source": [
        "## 0.1 Distribuição das Classes "
      ]
    },
    {
      "cell_type": "code",
      "metadata": {
        "id": "_ow6uH6IP-FC",
        "outputId": "1ef477ef-7dda-486f-8c3e-a9ad3a566d02",
        "colab": {
          "base_uri": "https://localhost:8080/",
          "height": 363
        }
      },
      "source": [
        "v1 = np.array(np.unique(y_train, return_counts=True)).T\n",
        "v1 = pd.DataFrame(v1, columns = [\"Digito\", \"Qtd_Instancias_Train\"])\n",
        "v2 = np.array(np.unique(y_test, return_counts=True)).T\n",
        "v2 = pd.DataFrame(v2, columns = [\"Digito\", \"Qtd_Instancias_Test\"])\n",
        "\n",
        "v1[\"Qtd_Instancias_Test\"] = v2['Qtd_Instancias_Test']\n",
        "v1['%Train'] = (v1['Qtd_Instancias_Train']/len(y_train))*100\n",
        "v1['%Test'] = (v1['Qtd_Instancias_Test']/len(y_test))*100\n",
        "v1"
      ],
      "execution_count": 3,
      "outputs": [
        {
          "output_type": "execute_result",
          "data": {
            "text/html": [
              "<div>\n",
              "<style scoped>\n",
              "    .dataframe tbody tr th:only-of-type {\n",
              "        vertical-align: middle;\n",
              "    }\n",
              "\n",
              "    .dataframe tbody tr th {\n",
              "        vertical-align: top;\n",
              "    }\n",
              "\n",
              "    .dataframe thead th {\n",
              "        text-align: right;\n",
              "    }\n",
              "</style>\n",
              "<table border=\"1\" class=\"dataframe\">\n",
              "  <thead>\n",
              "    <tr style=\"text-align: right;\">\n",
              "      <th></th>\n",
              "      <th>Digito</th>\n",
              "      <th>Qtd_Instancias_Train</th>\n",
              "      <th>Qtd_Instancias_Test</th>\n",
              "      <th>%Train</th>\n",
              "      <th>%Test</th>\n",
              "    </tr>\n",
              "  </thead>\n",
              "  <tbody>\n",
              "    <tr>\n",
              "      <th>0</th>\n",
              "      <td>0</td>\n",
              "      <td>5923</td>\n",
              "      <td>980</td>\n",
              "      <td>9.871667</td>\n",
              "      <td>9.80</td>\n",
              "    </tr>\n",
              "    <tr>\n",
              "      <th>1</th>\n",
              "      <td>1</td>\n",
              "      <td>6742</td>\n",
              "      <td>1135</td>\n",
              "      <td>11.236667</td>\n",
              "      <td>11.35</td>\n",
              "    </tr>\n",
              "    <tr>\n",
              "      <th>2</th>\n",
              "      <td>2</td>\n",
              "      <td>5958</td>\n",
              "      <td>1032</td>\n",
              "      <td>9.930000</td>\n",
              "      <td>10.32</td>\n",
              "    </tr>\n",
              "    <tr>\n",
              "      <th>3</th>\n",
              "      <td>3</td>\n",
              "      <td>6131</td>\n",
              "      <td>1010</td>\n",
              "      <td>10.218333</td>\n",
              "      <td>10.10</td>\n",
              "    </tr>\n",
              "    <tr>\n",
              "      <th>4</th>\n",
              "      <td>4</td>\n",
              "      <td>5842</td>\n",
              "      <td>982</td>\n",
              "      <td>9.736667</td>\n",
              "      <td>9.82</td>\n",
              "    </tr>\n",
              "    <tr>\n",
              "      <th>5</th>\n",
              "      <td>5</td>\n",
              "      <td>5421</td>\n",
              "      <td>892</td>\n",
              "      <td>9.035000</td>\n",
              "      <td>8.92</td>\n",
              "    </tr>\n",
              "    <tr>\n",
              "      <th>6</th>\n",
              "      <td>6</td>\n",
              "      <td>5918</td>\n",
              "      <td>958</td>\n",
              "      <td>9.863333</td>\n",
              "      <td>9.58</td>\n",
              "    </tr>\n",
              "    <tr>\n",
              "      <th>7</th>\n",
              "      <td>7</td>\n",
              "      <td>6265</td>\n",
              "      <td>1028</td>\n",
              "      <td>10.441667</td>\n",
              "      <td>10.28</td>\n",
              "    </tr>\n",
              "    <tr>\n",
              "      <th>8</th>\n",
              "      <td>8</td>\n",
              "      <td>5851</td>\n",
              "      <td>974</td>\n",
              "      <td>9.751667</td>\n",
              "      <td>9.74</td>\n",
              "    </tr>\n",
              "    <tr>\n",
              "      <th>9</th>\n",
              "      <td>9</td>\n",
              "      <td>5949</td>\n",
              "      <td>1009</td>\n",
              "      <td>9.915000</td>\n",
              "      <td>10.09</td>\n",
              "    </tr>\n",
              "  </tbody>\n",
              "</table>\n",
              "</div>"
            ],
            "text/plain": [
              "   Digito  Qtd_Instancias_Train  Qtd_Instancias_Test     %Train  %Test\n",
              "0       0                  5923                  980   9.871667   9.80\n",
              "1       1                  6742                 1135  11.236667  11.35\n",
              "2       2                  5958                 1032   9.930000  10.32\n",
              "3       3                  6131                 1010  10.218333  10.10\n",
              "4       4                  5842                  982   9.736667   9.82\n",
              "5       5                  5421                  892   9.035000   8.92\n",
              "6       6                  5918                  958   9.863333   9.58\n",
              "7       7                  6265                 1028  10.441667  10.28\n",
              "8       8                  5851                  974   9.751667   9.74\n",
              "9       9                  5949                 1009   9.915000  10.09"
            ]
          },
          "metadata": {
            "tags": []
          },
          "execution_count": 3
        }
      ]
    },
    {
      "cell_type": "code",
      "metadata": {
        "id": "134gYOL2SfvI",
        "outputId": "52e65b77-f371-41af-8110-6eda96eeb17d",
        "colab": {
          "base_uri": "https://localhost:8080/",
          "height": 513
        }
      },
      "source": [
        "v = v1.reset_index()\n",
        "v = v[[\"Digito\",\"%Train\",\"%Test\"]]\n",
        "v = v.set_index([\"Digito\"])\n",
        "ax = v.plot.bar(rot=0, subplots=True,figsize=(10,8))\n",
        "\n",
        "plt.show()"
      ],
      "execution_count": 4,
      "outputs": [
        {
          "output_type": "display_data",
          "data": {
            "image/png": "[encoded data removed]",
            "text/plain": [
              "<Figure size 720x576 with 2 Axes>"
            ]
          },
          "metadata": {
            "tags": [],
            "needs_background": "light"
          }
        }
      ]
    },
    {
      "cell_type": "markdown",
      "metadata": {
        "id": "9H3LJpcIKOgY"
      },
      "source": [
        "O banco de dados MNIST contém 60.000 imagens de treinamento e 10.000 imagens de teste obtidas de funcionários do American Census Bureau e estudantes americanos do ensino médio. \n",
        "\n",
        "As partes x_train e x_test contêm códigos RGB em tons de cinza (de 0 a 255), enquanto as partes y_train e y_test contêm rótulos de 0 a 9 que representam o número que realmente são. Para visualizar um dos exemplos."
      ]
    },
    {
      "cell_type": "code",
      "metadata": {
        "id": "Sq_1OOFKHy0m",
        "outputId": "410230b4-95eb-4d81-ec50-665894439c25",
        "colab": {
          "base_uri": "https://localhost:8080/",
          "height": 301
        }
      },
      "source": [
        "import matplotlib.pyplot as plt\n",
        "#%matplotlib inline # Only use this if using iPython\n",
        "image_index = 7777 # You may select anything up to 60,000\n",
        "print(y_train[image_index]) # The label is 8\n",
        "plt.imshow(x_train[image_index], cmap='Greys')"
      ],
      "execution_count": 5,
      "outputs": [
        {
          "output_type": "stream",
          "text": [
            "8\n"
          ],
          "name": "stdout"
        },
        {
          "output_type": "execute_result",
          "data": {
            "text/plain": [
              "<matplotlib.image.AxesImage at 0x7f31cea2b780>"
            ]
          },
          "metadata": {
            "tags": []
          },
          "execution_count": 5
        },
        {
          "output_type": "display_data",
          "data": {
            "image/png": "[encoded data removed]",
            "text/plain": [
              "<Figure size 432x288 with 1 Axes>"
            ]
          },
          "metadata": {
            "tags": [],
            "needs_background": "light"
          }
        }
      ]
    },
    {
      "cell_type": "markdown",
      "metadata": {
        "id": "utzTpuCIKwMT"
      },
      "source": [
        "O método .shape retorna três itens : número de imagens no dataset, e tamanho da imagem: 28 x 28 pixels."
      ]
    },
    {
      "cell_type": "code",
      "metadata": {
        "id": "dfAPKaQhJ-aD",
        "outputId": "4c925b7b-4c1a-4290-b733-95c0cfcdf8e5",
        "colab": {
          "base_uri": "https://localhost:8080/",
          "height": 35
        }
      },
      "source": [
        "x_train.shape"
      ],
      "execution_count": 6,
      "outputs": [
        {
          "output_type": "execute_result",
          "data": {
            "text/plain": [
              "(60000, 28, 28)"
            ]
          },
          "metadata": {
            "tags": []
          },
          "execution_count": 6
        }
      ]
    },
    {
      "cell_type": "markdown",
      "metadata": {
        "id": "U1vkL5UBLULJ"
      },
      "source": [
        "## 1. Normalização Imagens\n",
        "\n",
        "Para poder usar o conjunto de dados na API Keras, é preciso que as matrizes NumPy tenham  4 dimensões. Porém o formato atual é 3-dim. \n",
        "Em modelos de rede neural, sempre é necessário normalizar os dados. Para isso basta dividir os códigos RGB em 255 (que é o código RGB máximo menos o código RGB mínimo). "
      ]
    },
    {
      "cell_type": "code",
      "metadata": {
        "id": "BUPMYxLsKk70",
        "outputId": "e36f52c5-b02d-4c77-c5fc-eced29e5fc90",
        "colab": {
          "base_uri": "https://localhost:8080/",
          "height": 72
        }
      },
      "source": [
        "#Remodelar a matriz para 4-dim para que funcione com a API Keras\n",
        "x_train = x_train.reshape(x_train.shape[0], 28, 28, 1)\n",
        "x_test = x_test.reshape(x_test.shape[0], 28, 28, 1)\n",
        "input_shape = (28, 28, 1)\n",
        "\n",
        "# Certificando-se de que os valores são flutuantes para que possamos obter pontos decimais após a divisão\n",
        "x_train = x_train.astype('float32')\n",
        "x_test = x_test.astype('float32')\n",
        "\n",
        "# Normalizando os códigos RGB dividindo-os pelo valor RGB máximo.\n",
        "x_train /= 255\n",
        "x_test /= 255\n",
        "print('x_train shape:', x_train.shape)\n",
        "print('Number of images in x_train', x_train.shape[0])\n",
        "print('Number of images in x_test', x_test.shape[0])"
      ],
      "execution_count": 7,
      "outputs": [
        {
          "output_type": "stream",
          "text": [
            "x_train shape: (60000, 28, 28, 1)\n",
            "Number of images in x_train 60000\n",
            "Number of images in x_test 10000\n"
          ],
          "name": "stdout"
        }
      ]
    },
    {
      "cell_type": "markdown",
      "metadata": {
        "id": "09d83qbgMJ0X"
      },
      "source": [
        "## 2. Construindo a Rede Neural Convolucional\n",
        "\n",
        "Camadas Dropout lutam com o overfitting ao desconsiderar alguns dos neurônios durante o treinamento, enquanto as camadas Flatten achatam os arrays 2D em arrays 1D antes de construir as camadas totalmente conectadas.\n",
        "\n",
        "* Número da primeira camada Densa: qualquer número\n",
        "* Número de neuronios da camada de saida: obrigatoriamente 10, deve ter 10 neurônios, pois temos 10 classes de números (0, 1, 2, ..., 9). \n",
        "* Outros parametros variaveis : tamanho do kernel, tamanho do pool, funções de ativação, taxa de abandono e um número de neurônios na primeira camada Densa para obter um resultado melhor.\n"
      ]
    },
    {
      "cell_type": "code",
      "metadata": {
        "id": "5Wi-0FaHNIsn"
      },
      "source": [
        "# Importing the required Keras modules containing model and layers\n",
        "from keras.models import Sequential\n",
        "from keras.layers import Dense, Conv2D, Dropout, Flatten, MaxPooling2D"
      ],
      "execution_count": 8,
      "outputs": []
    },
    {
      "cell_type": "code",
      "metadata": {
        "id": "f97LAwOkMNvq"
      },
      "source": [
        "# Creating a Sequential Model and adding the layers\n",
        "model = Sequential()\n",
        "model.add(Conv2D(28, kernel_size=(3,3), input_shape=input_shape))\n",
        "model.add(MaxPooling2D(pool_size=(2, 2)))\n",
        "model.add(Flatten()) # Flattening the 2D arrays for fully connected layers\n",
        "model.add(Dense(128, activation=tf.nn.relu))\n",
        "model.add(Dropout(0.2))\n",
        "model.add(Dense(10,activation=tf.nn.softmax))"
      ],
      "execution_count": 9,
      "outputs": []
    },
    {
      "cell_type": "markdown",
      "metadata": {
        "id": "e0ZHDW80NTJ0"
      },
      "source": [
        "## 3. Compilando e ajustando o modelo\n",
        "O código acima cria uma CNN vazia. \n",
        "\n",
        "Agora é preciso definir: \n",
        "- otimizador: com função de perda que usa uma métrica. \n",
        "\n",
        "Em seguida é possivel ajustar o modelo usando nossos dados de train. \n"
      ]
    },
    {
      "cell_type": "code",
      "metadata": {
        "id": "Txa8vnCU05NF"
      },
      "source": [
        "# # Garante a reproducividade do código\n",
        "seed = 42\n",
        "np.random.seed(seed)\n",
        "epocas = 20\n",
        "batch = 64"
      ],
      "execution_count": 10,
      "outputs": []
    },
    {
      "cell_type": "code",
      "metadata": {
        "id": "cmGtoD9E1CEZ"
      },
      "source": [
        "model.compile(optimizer='adam', \n",
        "              loss='sparse_categorical_crossentropy', \n",
        "              metrics=['accuracy'])"
      ],
      "execution_count": 11,
      "outputs": []
    },
    {
      "cell_type": "markdown",
      "metadata": {
        "id": "zEsnTsl2uIVL"
      },
      "source": [
        "Conduct k-Fold Cross-Validation Using scikit-learn"
      ]
    },
    {
      "cell_type": "code",
      "metadata": {
        "id": "ZFGT3NffNM31",
        "outputId": "a70c9ce9-209e-422b-aa8a-802ea21e0c44",
        "colab": {
          "base_uri": "https://localhost:8080/",
          "height": 1000
        }
      },
      "source": [
        "# Create StratifiedKFold object. \n",
        "skf = StratifiedKFold(n_splits=10, shuffle=True, random_state=1) \n",
        "score_stratified = [] \n",
        "   \n",
        "for train_index, test_index in skf.split(x_train,y_train): \n",
        "    x_train_fold, x_test_fold = x_train[train_index],x_train[test_index] \n",
        "    y_train_fold, y_test_fold = y_train[train_index], y_train[test_index] \n",
        "    model.fit(x_train_fold, y_train_fold, batch_size=batch,epochs=epocas) \n",
        "    score_stratified.append(model.evaluate(x_test_fold, y_test_fold)) \n",
        "   "
      ],
      "execution_count": 15,
      "outputs": [
        {
          "output_type": "stream",
          "text": [
            "Epoch 1/20\n",
            "844/844 [==============================] - 20s 24ms/step - loss: 0.0059 - accuracy: 0.9980\n",
            "Epoch 2/20\n",
            "844/844 [==============================] - 20s 24ms/step - loss: 0.0060 - accuracy: 0.9978\n",
            "Epoch 3/20\n",
            "844/844 [==============================] - 20s 24ms/step - loss: 0.0046 - accuracy: 0.9981\n",
            "Epoch 4/20\n",
            "844/844 [==============================] - 20s 24ms/step - loss: 0.0066 - accuracy: 0.9976\n",
            "Epoch 5/20\n",
            "844/844 [==============================] - 20s 24ms/step - loss: 0.0054 - accuracy: 0.9983\n",
            "Epoch 6/20\n",
            "844/844 [==============================] - 20s 24ms/step - loss: 0.0042 - accuracy: 0.9986\n",
            "Epoch 7/20\n",
            "844/844 [==============================] - 20s 24ms/step - loss: 0.0052 - accuracy: 0.9982\n",
            "Epoch 8/20\n",
            "844/844 [==============================] - 20s 24ms/step - loss: 0.0060 - accuracy: 0.9980\n",
            "Epoch 9/20\n",
            "844/844 [==============================] - 20s 24ms/step - loss: 0.0053 - accuracy: 0.9982\n",
            "Epoch 10/20\n",
            "844/844 [==============================] - 20s 24ms/step - loss: 0.0071 - accuracy: 0.9980\n",
            "Epoch 11/20\n",
            "844/844 [==============================] - 20s 24ms/step - loss: 0.0061 - accuracy: 0.9981\n",
            "Epoch 12/20\n",
            "844/844 [==============================] - 20s 24ms/step - loss: 0.0046 - accuracy: 0.9985\n",
            "Epoch 13/20\n",
            "844/844 [==============================] - 20s 24ms/step - loss: 0.0065 - accuracy: 0.9980\n",
            "Epoch 14/20\n",
            "844/844 [==============================] - 20s 24ms/step - loss: 0.0048 - accuracy: 0.9986\n",
            "Epoch 15/20\n",
            "844/844 [==============================] - 21s 24ms/step - loss: 0.0043 - accuracy: 0.9986\n",
            "Epoch 16/20\n",
            "844/844 [==============================] - 20s 24ms/step - loss: 0.0053 - accuracy: 0.9983\n",
            "Epoch 17/20\n",
            "844/844 [==============================] - 20s 24ms/step - loss: 0.0066 - accuracy: 0.9982\n",
            "Epoch 18/20\n",
            "844/844 [==============================] - 21s 25ms/step - loss: 0.0051 - accuracy: 0.9984\n",
            "Epoch 19/20\n",
            "844/844 [==============================] - 21s 25ms/step - loss: 0.0039 - accuracy: 0.9988\n",
            "Epoch 20/20\n",
            "844/844 [==============================] - 21s 25ms/step - loss: 0.0056 - accuracy: 0.9985\n",
            "188/188 [==============================] - 1s 7ms/step - loss: 0.1202 - accuracy: 0.9858\n",
            "Epoch 1/20\n",
            "844/844 [==============================] - 21s 25ms/step - loss: 0.0229 - accuracy: 0.9957\n",
            "Epoch 2/20\n",
            "844/844 [==============================] - 21s 25ms/step - loss: 0.0102 - accuracy: 0.9969\n",
            "Epoch 3/20\n",
            "844/844 [==============================] - 22s 26ms/step - loss: 0.0074 - accuracy: 0.9978\n",
            "Epoch 4/20\n",
            "844/844 [==============================] - 21s 25ms/step - loss: 0.0053 - accuracy: 0.9986\n",
            "Epoch 5/20\n",
            "844/844 [==============================] - 21s 25ms/step - loss: 0.0073 - accuracy: 0.9980\n",
            "Epoch 6/20\n",
            "844/844 [==============================] - 21s 25ms/step - loss: 0.0054 - accuracy: 0.9983\n",
            "Epoch 7/20\n",
            "844/844 [==============================] - 21s 25ms/step - loss: 0.0048 - accuracy: 0.9985\n",
            "Epoch 8/20\n",
            "844/844 [==============================] - 21s 25ms/step - loss: 0.0046 - accuracy: 0.9987\n",
            "Epoch 9/20\n",
            "844/844 [==============================] - 21s 25ms/step - loss: 0.0062 - accuracy: 0.9983\n",
            "Epoch 10/20\n",
            "844/844 [==============================] - 21s 25ms/step - loss: 0.0052 - accuracy: 0.9983\n",
            "Epoch 11/20\n",
            "844/844 [==============================] - 21s 25ms/step - loss: 0.0056 - accuracy: 0.9983\n",
            "Epoch 12/20\n",
            "844/844 [==============================] - 21s 25ms/step - loss: 0.0053 - accuracy: 0.9983\n",
            "Epoch 13/20\n",
            "844/844 [==============================] - 21s 25ms/step - loss: 0.0055 - accuracy: 0.9984\n",
            "Epoch 14/20\n",
            "844/844 [==============================] - 21s 25ms/step - loss: 0.0050 - accuracy: 0.9985\n",
            "Epoch 15/20\n",
            "844/844 [==============================] - 21s 25ms/step - loss: 0.0056 - accuracy: 0.9986\n",
            "Epoch 16/20\n",
            "844/844 [==============================] - 21s 25ms/step - loss: 0.0052 - accuracy: 0.9982\n",
            "Epoch 17/20\n",
            "844/844 [==============================] - 21s 25ms/step - loss: 0.0042 - accuracy: 0.9986\n",
            "Epoch 18/20\n",
            "844/844 [==============================] - 21s 25ms/step - loss: 0.0054 - accuracy: 0.9983\n",
            "Epoch 19/20\n",
            "844/844 [==============================] - 21s 25ms/step - loss: 0.0040 - accuracy: 0.9988\n",
            "Epoch 20/20\n",
            "844/844 [==============================] - 21s 25ms/step - loss: 0.0036 - accuracy: 0.9988\n",
            "188/188 [==============================] - 1s 7ms/step - loss: 0.0011 - accuracy: 0.9997\n",
            "Epoch 1/20\n",
            "844/844 [==============================] - 21s 25ms/step - loss: 0.0062 - accuracy: 0.9980\n",
            "Epoch 2/20\n",
            "844/844 [==============================] - 21s 25ms/step - loss: 0.0059 - accuracy: 0.9982\n",
            "Epoch 3/20\n",
            "844/844 [==============================] - 21s 25ms/step - loss: 0.0044 - accuracy: 0.9989\n",
            "Epoch 4/20\n",
            "844/844 [==============================] - 21s 25ms/step - loss: 0.0067 - accuracy: 0.9982\n",
            "Epoch 5/20\n",
            "844/844 [==============================] - 21s 25ms/step - loss: 0.0040 - accuracy: 0.9989\n",
            "Epoch 6/20\n",
            "844/844 [==============================] - 21s 25ms/step - loss: 0.0058 - accuracy: 0.9983\n",
            "Epoch 7/20\n",
            "844/844 [==============================] - 22s 26ms/step - loss: 0.0046 - accuracy: 0.9987\n",
            "Epoch 8/20\n",
            "844/844 [==============================] - 20s 24ms/step - loss: 0.0041 - accuracy: 0.9987\n",
            "Epoch 9/20\n",
            "844/844 [==============================] - 20s 24ms/step - loss: 0.0042 - accuracy: 0.9988\n",
            "Epoch 10/20\n",
            "844/844 [==============================] - 20s 24ms/step - loss: 0.0051 - accuracy: 0.9985\n",
            "Epoch 11/20\n",
            "844/844 [==============================] - 20s 24ms/step - loss: 0.0054 - accuracy: 0.9985\n",
            "Epoch 12/20\n",
            "844/844 [==============================] - 21s 24ms/step - loss: 0.0031 - accuracy: 0.9989\n",
            "Epoch 13/20\n",
            "844/844 [==============================] - 20s 24ms/step - loss: 0.0051 - accuracy: 0.9986\n",
            "Epoch 14/20\n",
            "844/844 [==============================] - 20s 24ms/step - loss: 0.0045 - accuracy: 0.9987\n",
            "Epoch 15/20\n",
            "844/844 [==============================] - 20s 24ms/step - loss: 0.0058 - accuracy: 0.9984\n",
            "Epoch 16/20\n",
            "844/844 [==============================] - 20s 24ms/step - loss: 0.0040 - accuracy: 0.9988\n",
            "Epoch 17/20\n",
            "844/844 [==============================] - 20s 24ms/step - loss: 0.0043 - accuracy: 0.9988\n",
            "Epoch 18/20\n",
            "844/844 [==============================] - 20s 24ms/step - loss: 0.0049 - accuracy: 0.9986\n",
            "Epoch 19/20\n",
            "844/844 [==============================] - 20s 24ms/step - loss: 0.0036 - accuracy: 0.9988\n",
            "Epoch 20/20\n",
            "844/844 [==============================] - 20s 24ms/step - loss: 0.0041 - accuracy: 0.9989\n",
            "188/188 [==============================] - 1s 6ms/step - loss: 0.0044 - accuracy: 0.9988\n",
            "Epoch 1/20\n",
            "844/844 [==============================] - 20s 24ms/step - loss: 0.0057 - accuracy: 0.9982\n",
            "Epoch 2/20\n",
            "844/844 [==============================] - 20s 24ms/step - loss: 0.0042 - accuracy: 0.9988\n",
            "Epoch 3/20\n",
            "844/844 [==============================] - 20s 24ms/step - loss: 0.0044 - accuracy: 0.9987\n",
            "Epoch 4/20\n",
            "844/844 [==============================] - 20s 24ms/step - loss: 0.0049 - accuracy: 0.9988\n",
            "Epoch 5/20\n",
            "844/844 [==============================] - 20s 24ms/step - loss: 0.0043 - accuracy: 0.9988\n",
            "Epoch 6/20\n",
            "844/844 [==============================] - 20s 24ms/step - loss: 0.0033 - accuracy: 0.9990\n",
            "Epoch 7/20\n",
            "844/844 [==============================] - 20s 24ms/step - loss: 0.0043 - accuracy: 0.9988\n",
            "Epoch 8/20\n",
            "844/844 [==============================] - 20s 24ms/step - loss: 0.0035 - accuracy: 0.9991\n",
            "Epoch 9/20\n",
            "844/844 [==============================] - 21s 24ms/step - loss: 0.0059 - accuracy: 0.9985\n",
            "Epoch 10/20\n",
            "844/844 [==============================] - 21s 24ms/step - loss: 0.0043 - accuracy: 0.9987\n",
            "Epoch 11/20\n",
            "844/844 [==============================] - 21s 25ms/step - loss: 0.0046 - accuracy: 0.9988\n",
            "Epoch 12/20\n",
            "844/844 [==============================] - 21s 25ms/step - loss: 0.0038 - accuracy: 0.9988\n",
            "Epoch 13/20\n",
            "844/844 [==============================] - 22s 26ms/step - loss: 0.0031 - accuracy: 0.9991\n",
            "Epoch 14/20\n",
            "844/844 [==============================] - 21s 24ms/step - loss: 0.0050 - accuracy: 0.9985\n",
            "Epoch 15/20\n",
            "844/844 [==============================] - 20s 24ms/step - loss: 0.0040 - accuracy: 0.9989\n",
            "Epoch 16/20\n",
            "844/844 [==============================] - 20s 24ms/step - loss: 0.0032 - accuracy: 0.9990\n",
            "Epoch 17/20\n",
            "844/844 [==============================] - 21s 24ms/step - loss: 0.0050 - accuracy: 0.9987\n",
            "Epoch 18/20\n",
            "844/844 [==============================] - 21s 25ms/step - loss: 0.0039 - accuracy: 0.9990\n",
            "Epoch 19/20\n",
            "844/844 [==============================] - 21s 24ms/step - loss: 0.0047 - accuracy: 0.9986\n",
            "Epoch 20/20\n",
            "844/844 [==============================] - 21s 24ms/step - loss: 0.0038 - accuracy: 0.9989\n",
            "188/188 [==============================] - 1s 6ms/step - loss: 0.0014 - accuracy: 0.9997\n",
            "Epoch 1/20\n",
            "844/844 [==============================] - 21s 25ms/step - loss: 0.0065 - accuracy: 0.9984\n",
            "Epoch 2/20\n",
            "844/844 [==============================] - 21s 25ms/step - loss: 0.0042 - accuracy: 0.9988\n",
            "Epoch 3/20\n",
            "844/844 [==============================] - 21s 24ms/step - loss: 0.0036 - accuracy: 0.9990\n",
            "Epoch 4/20\n",
            "844/844 [==============================] - 21s 24ms/step - loss: 0.0041 - accuracy: 0.9991\n",
            "Epoch 5/20\n",
            "844/844 [==============================] - 21s 25ms/step - loss: 0.0046 - accuracy: 0.9986\n",
            "Epoch 6/20\n",
            "844/844 [==============================] - 21s 25ms/step - loss: 0.0027 - accuracy: 0.9992\n",
            "Epoch 7/20\n",
            "844/844 [==============================] - 21s 24ms/step - loss: 0.0043 - accuracy: 0.9988\n",
            "Epoch 8/20\n",
            "844/844 [==============================] - 21s 24ms/step - loss: 0.0034 - accuracy: 0.9991\n",
            "Epoch 9/20\n",
            "844/844 [==============================] - 21s 24ms/step - loss: 0.0054 - accuracy: 0.9987\n",
            "Epoch 10/20\n",
            "844/844 [==============================] - 20s 24ms/step - loss: 0.0042 - accuracy: 0.9989\n",
            "Epoch 11/20\n",
            "844/844 [==============================] - 21s 24ms/step - loss: 0.0033 - accuracy: 0.9991\n",
            "Epoch 12/20\n",
            "844/844 [==============================] - 21s 25ms/step - loss: 0.0029 - accuracy: 0.9992\n",
            "Epoch 13/20\n",
            "844/844 [==============================] - 21s 25ms/step - loss: 0.0057 - accuracy: 0.9985\n",
            "Epoch 14/20\n",
            "844/844 [==============================] - 21s 24ms/step - loss: 0.0040 - accuracy: 0.9987\n",
            "Epoch 15/20\n",
            "844/844 [==============================] - 21s 24ms/step - loss: 0.0042 - accuracy: 0.9987\n",
            "Epoch 16/20\n",
            "844/844 [==============================] - 21s 25ms/step - loss: 0.0040 - accuracy: 0.9990\n",
            "Epoch 17/20\n",
            "844/844 [==============================] - 21s 24ms/step - loss: 0.0053 - accuracy: 0.9984\n",
            "Epoch 18/20\n",
            "844/844 [==============================] - 21s 25ms/step - loss: 0.0029 - accuracy: 0.9991\n",
            "Epoch 19/20\n",
            "844/844 [==============================] - 21s 24ms/step - loss: 0.0032 - accuracy: 0.9992\n",
            "Epoch 20/20\n",
            "844/844 [==============================] - 21s 25ms/step - loss: 0.0036 - accuracy: 0.9991\n",
            "188/188 [==============================] - 1s 7ms/step - loss: 3.1909e-04 - accuracy: 0.9998\n",
            "Epoch 1/20\n",
            "844/844 [==============================] - 21s 24ms/step - loss: 0.0045 - accuracy: 0.9987\n",
            "Epoch 2/20\n",
            "844/844 [==============================] - 21s 25ms/step - loss: 0.0062 - accuracy: 0.9984\n",
            "Epoch 3/20\n",
            "844/844 [==============================] - 21s 25ms/step - loss: 0.0036 - accuracy: 0.9990\n",
            "Epoch 4/20\n",
            "844/844 [==============================] - 21s 25ms/step - loss: 0.0039 - accuracy: 0.9990\n",
            "Epoch 5/20\n",
            "844/844 [==============================] - 21s 25ms/step - loss: 0.0041 - accuracy: 0.9989\n",
            "Epoch 6/20\n",
            "844/844 [==============================] - 21s 25ms/step - loss: 0.0046 - accuracy: 0.9989\n",
            "Epoch 7/20\n",
            "844/844 [==============================] - 22s 25ms/step - loss: 0.0029 - accuracy: 0.9992\n",
            "Epoch 8/20\n",
            "844/844 [==============================] - 21s 25ms/step - loss: 0.0042 - accuracy: 0.9987\n",
            "Epoch 9/20\n",
            "844/844 [==============================] - 21s 25ms/step - loss: 0.0034 - accuracy: 0.9990\n",
            "Epoch 10/20\n",
            "844/844 [==============================] - 21s 25ms/step - loss: 0.0051 - accuracy: 0.9988\n",
            "Epoch 11/20\n",
            "844/844 [==============================] - 21s 25ms/step - loss: 0.0029 - accuracy: 0.9991\n",
            "Epoch 12/20\n",
            "844/844 [==============================] - 21s 24ms/step - loss: 0.0041 - accuracy: 0.9989\n",
            "Epoch 13/20\n",
            "844/844 [==============================] - 21s 24ms/step - loss: 0.0040 - accuracy: 0.9990\n",
            "Epoch 14/20\n",
            "844/844 [==============================] - 20s 24ms/step - loss: 0.0029 - accuracy: 0.9993\n",
            "Epoch 15/20\n",
            "844/844 [==============================] - 21s 24ms/step - loss: 0.0043 - accuracy: 0.9988\n",
            "Epoch 16/20\n",
            "844/844 [==============================] - 21s 24ms/step - loss: 0.0047 - accuracy: 0.9989\n",
            "Epoch 17/20\n",
            "844/844 [==============================] - 21s 25ms/step - loss: 0.0040 - accuracy: 0.9991\n",
            "Epoch 18/20\n",
            "844/844 [==============================] - 21s 25ms/step - loss: 0.0048 - accuracy: 0.9988\n",
            "Epoch 19/20\n",
            "844/844 [==============================] - 21s 25ms/step - loss: 0.0034 - accuracy: 0.9991\n",
            "Epoch 20/20\n",
            "844/844 [==============================] - 21s 25ms/step - loss: 0.0045 - accuracy: 0.9989\n",
            "188/188 [==============================] - 1s 7ms/step - loss: 8.2490e-04 - accuracy: 0.9997\n",
            "Epoch 1/20\n",
            "844/844 [==============================] - 21s 25ms/step - loss: 0.0042 - accuracy: 0.9990\n",
            "Epoch 2/20\n",
            "844/844 [==============================] - 21s 25ms/step - loss: 0.0040 - accuracy: 0.9990\n",
            "Epoch 3/20\n",
            "844/844 [==============================] - 21s 25ms/step - loss: 0.0050 - accuracy: 0.9987\n",
            "Epoch 4/20\n",
            "844/844 [==============================] - 21s 24ms/step - loss: 0.0035 - accuracy: 0.9989\n",
            "Epoch 5/20\n",
            "844/844 [==============================] - 21s 24ms/step - loss: 0.0025 - accuracy: 0.9991\n",
            "Epoch 6/20\n",
            "844/844 [==============================] - 21s 25ms/step - loss: 0.0031 - accuracy: 0.9991\n",
            "Epoch 7/20\n",
            "844/844 [==============================] - 21s 25ms/step - loss: 0.0041 - accuracy: 0.9989\n",
            "Epoch 8/20\n",
            "844/844 [==============================] - 21s 24ms/step - loss: 0.0040 - accuracy: 0.9990\n",
            "Epoch 9/20\n",
            "844/844 [==============================] - 21s 25ms/step - loss: 0.0032 - accuracy: 0.9991\n",
            "Epoch 10/20\n",
            "844/844 [==============================] - 21s 25ms/step - loss: 0.0043 - accuracy: 0.9989\n",
            "Epoch 11/20\n",
            "844/844 [==============================] - 21s 25ms/step - loss: 0.0033 - accuracy: 0.9993\n",
            "Epoch 12/20\n",
            "844/844 [==============================] - 21s 24ms/step - loss: 0.0038 - accuracy: 0.9990\n",
            "Epoch 13/20\n",
            "844/844 [==============================] - 21s 25ms/step - loss: 0.0033 - accuracy: 0.9991\n",
            "Epoch 14/20\n",
            "844/844 [==============================] - 21s 25ms/step - loss: 0.0038 - accuracy: 0.9989\n",
            "Epoch 15/20\n",
            "844/844 [==============================] - 21s 25ms/step - loss: 0.0043 - accuracy: 0.9989\n",
            "Epoch 16/20\n",
            "844/844 [==============================] - 21s 25ms/step - loss: 0.0046 - accuracy: 0.9990\n",
            "Epoch 17/20\n",
            "844/844 [==============================] - 21s 25ms/step - loss: 0.0044 - accuracy: 0.9989\n",
            "Epoch 18/20\n",
            "844/844 [==============================] - 21s 25ms/step - loss: 0.0046 - accuracy: 0.9989\n",
            "Epoch 19/20\n",
            "844/844 [==============================] - 21s 25ms/step - loss: 0.0043 - accuracy: 0.9990\n",
            "Epoch 20/20\n",
            "844/844 [==============================] - 21s 25ms/step - loss: 0.0032 - accuracy: 0.9990\n",
            "188/188 [==============================] - 1s 6ms/step - loss: 1.2381e-04 - accuracy: 1.0000\n",
            "Epoch 1/20\n",
            "844/844 [==============================] - 21s 25ms/step - loss: 0.0037 - accuracy: 0.9991\n",
            "Epoch 2/20\n",
            "844/844 [==============================] - 21s 24ms/step - loss: 0.0035 - accuracy: 0.9991\n",
            "Epoch 3/20\n",
            "844/844 [==============================] - 21s 25ms/step - loss: 0.0046 - accuracy: 0.9990\n",
            "Epoch 4/20\n",
            "844/844 [==============================] - 21s 25ms/step - loss: 0.0041 - accuracy: 0.9991\n",
            "Epoch 5/20\n",
            "844/844 [==============================] - 21s 25ms/step - loss: 0.0046 - accuracy: 0.9989\n",
            "Epoch 6/20\n",
            "844/844 [==============================] - 21s 25ms/step - loss: 0.0049 - accuracy: 0.9989\n",
            "Epoch 7/20\n",
            "844/844 [==============================] - 21s 25ms/step - loss: 0.0050 - accuracy: 0.9988\n",
            "Epoch 8/20\n",
            "844/844 [==============================] - 21s 25ms/step - loss: 0.0034 - accuracy: 0.9991\n",
            "Epoch 9/20\n",
            "844/844 [==============================] - 21s 25ms/step - loss: 0.0031 - accuracy: 0.9993\n",
            "Epoch 10/20\n",
            "844/844 [==============================] - 21s 25ms/step - loss: 0.0033 - accuracy: 0.9992\n",
            "Epoch 11/20\n",
            "844/844 [==============================] - 21s 25ms/step - loss: 0.0039 - accuracy: 0.9989\n",
            "Epoch 12/20\n",
            "844/844 [==============================] - 22s 26ms/step - loss: 0.0038 - accuracy: 0.9991\n",
            "Epoch 13/20\n",
            "844/844 [==============================] - 21s 25ms/step - loss: 0.0035 - accuracy: 0.9992\n",
            "Epoch 14/20\n",
            "844/844 [==============================] - 21s 25ms/step - loss: 0.0031 - accuracy: 0.9993\n",
            "Epoch 15/20\n",
            "844/844 [==============================] - 22s 25ms/step - loss: 0.0050 - accuracy: 0.9987\n",
            "Epoch 16/20\n",
            "844/844 [==============================] - 21s 25ms/step - loss: 0.0055 - accuracy: 0.9989\n",
            "Epoch 17/20\n",
            "844/844 [==============================] - 21s 25ms/step - loss: 0.0034 - accuracy: 0.9990\n",
            "Epoch 18/20\n",
            "844/844 [==============================] - 21s 25ms/step - loss: 0.0026 - accuracy: 0.9992\n",
            "Epoch 19/20\n",
            "844/844 [==============================] - 21s 25ms/step - loss: 0.0038 - accuracy: 0.9992\n",
            "Epoch 20/20\n",
            "844/844 [==============================] - 21s 25ms/step - loss: 0.0029 - accuracy: 0.9993\n",
            "188/188 [==============================] - 1s 7ms/step - loss: 3.7282e-04 - accuracy: 0.9998\n",
            "Epoch 1/20\n",
            "844/844 [==============================] - 21s 25ms/step - loss: 0.0054 - accuracy: 0.9989\n",
            "Epoch 2/20\n",
            "844/844 [==============================] - 21s 25ms/step - loss: 0.0049 - accuracy: 0.9989\n",
            "Epoch 3/20\n",
            "844/844 [==============================] - 21s 25ms/step - loss: 0.0038 - accuracy: 0.9991\n",
            "Epoch 4/20\n",
            "844/844 [==============================] - 21s 25ms/step - loss: 0.0031 - accuracy: 0.9991\n",
            "Epoch 5/20\n",
            "844/844 [==============================] - 21s 25ms/step - loss: 0.0037 - accuracy: 0.9993\n",
            "Epoch 6/20\n",
            "844/844 [==============================] - 21s 25ms/step - loss: 0.0030 - accuracy: 0.9992\n",
            "Epoch 7/20\n",
            "844/844 [==============================] - 22s 26ms/step - loss: 0.0045 - accuracy: 0.9989\n",
            "Epoch 8/20\n",
            "844/844 [==============================] - 21s 25ms/step - loss: 0.0038 - accuracy: 0.9992\n",
            "Epoch 9/20\n",
            "844/844 [==============================] - 21s 25ms/step - loss: 0.0047 - accuracy: 0.9991\n",
            "Epoch 10/20\n",
            "844/844 [==============================] - 21s 25ms/step - loss: 0.0059 - accuracy: 0.9990\n",
            "Epoch 11/20\n",
            "844/844 [==============================] - 21s 25ms/step - loss: 0.0033 - accuracy: 0.9992\n",
            "Epoch 12/20\n",
            "844/844 [==============================] - 21s 25ms/step - loss: 0.0033 - accuracy: 0.9991\n",
            "Epoch 13/20\n",
            "844/844 [==============================] - 21s 25ms/step - loss: 0.0036 - accuracy: 0.9992\n",
            "Epoch 14/20\n",
            "844/844 [==============================] - 21s 25ms/step - loss: 0.0033 - accuracy: 0.9992\n",
            "Epoch 15/20\n",
            "844/844 [==============================] - 21s 25ms/step - loss: 0.0026 - accuracy: 0.9994\n",
            "Epoch 16/20\n",
            "844/844 [==============================] - 21s 25ms/step - loss: 0.0028 - accuracy: 0.9993\n",
            "Epoch 17/20\n",
            "844/844 [==============================] - 21s 25ms/step - loss: 0.0039 - accuracy: 0.9991\n",
            "Epoch 18/20\n",
            "844/844 [==============================] - 20s 24ms/step - loss: 0.0044 - accuracy: 0.9990\n",
            "Epoch 19/20\n",
            "844/844 [==============================] - 21s 24ms/step - loss: 0.0048 - accuracy: 0.9989\n",
            "Epoch 20/20\n",
            "844/844 [==============================] - 20s 24ms/step - loss: 0.0033 - accuracy: 0.9992\n",
            "188/188 [==============================] - 1s 6ms/step - loss: 0.0016 - accuracy: 0.9995\n",
            "Epoch 1/20\n",
            "844/844 [==============================] - 21s 25ms/step - loss: 0.0043 - accuracy: 0.9989\n",
            "Epoch 2/20\n",
            "844/844 [==============================] - 20s 24ms/step - loss: 0.0045 - accuracy: 0.9992\n",
            "Epoch 3/20\n",
            "844/844 [==============================] - 20s 24ms/step - loss: 0.0035 - accuracy: 0.9993\n",
            "Epoch 4/20\n",
            "844/844 [==============================] - 21s 25ms/step - loss: 0.0030 - accuracy: 0.9993\n",
            "Epoch 5/20\n",
            "844/844 [==============================] - 20s 24ms/step - loss: 0.0050 - accuracy: 0.9989\n",
            "Epoch 6/20\n",
            "844/844 [==============================] - 21s 24ms/step - loss: 0.0034 - accuracy: 0.9992\n",
            "Epoch 7/20\n",
            "844/844 [==============================] - 21s 25ms/step - loss: 0.0046 - accuracy: 0.9991\n",
            "Epoch 8/20\n",
            "844/844 [==============================] - 21s 24ms/step - loss: 0.0037 - accuracy: 0.9991\n",
            "Epoch 9/20\n",
            "844/844 [==============================] - 20s 24ms/step - loss: 0.0047 - accuracy: 0.9990\n",
            "Epoch 10/20\n",
            "844/844 [==============================] - 21s 24ms/step - loss: 0.0050 - accuracy: 0.9990\n",
            "Epoch 11/20\n",
            "844/844 [==============================] - 21s 24ms/step - loss: 0.0045 - accuracy: 0.9990\n",
            "Epoch 12/20\n",
            "844/844 [==============================] - 20s 24ms/step - loss: 0.0022 - accuracy: 0.9993\n",
            "Epoch 13/20\n",
            "844/844 [==============================] - 20s 24ms/step - loss: 0.0037 - accuracy: 0.9992\n",
            "Epoch 14/20\n",
            "844/844 [==============================] - 21s 25ms/step - loss: 0.0066 - accuracy: 0.9987\n",
            "Epoch 15/20\n",
            "844/844 [==============================] - 20s 24ms/step - loss: 0.0041 - accuracy: 0.9991\n",
            "Epoch 16/20\n",
            "844/844 [==============================] - 20s 24ms/step - loss: 0.0044 - accuracy: 0.9991\n",
            "Epoch 17/20\n",
            "844/844 [==============================] - 21s 24ms/step - loss: 0.0048 - accuracy: 0.9991\n",
            "Epoch 18/20\n",
            "844/844 [==============================] - 20s 24ms/step - loss: 0.0028 - accuracy: 0.9993\n",
            "Epoch 19/20\n",
            "844/844 [==============================] - 21s 25ms/step - loss: 0.0041 - accuracy: 0.9991\n",
            "Epoch 20/20\n",
            "844/844 [==============================] - 21s 25ms/step - loss: 0.0034 - accuracy: 0.9992\n",
            "188/188 [==============================] - 1s 7ms/step - loss: 3.6947e-06 - accuracy: 1.0000\n"
          ],
          "name": "stdout"
        }
      ]
    },
    {
      "cell_type": "markdown",
      "metadata": {
        "id": "H6MoYP6KN9c7"
      },
      "source": [
        "É possivel variar:\n",
        "-  otimizador\n",
        "-  função de perda\n",
        "-  métricas \n",
        "-  épocas. \n",
        "\n",
        "## 4. Avaliando o modelo \n",
        "Finalmente, você pode avaliar o modelo treinado com x_test e y_test usando uma linha de código:\n"
      ]
    },
    {
      "cell_type": "code",
      "metadata": {
        "id": "E8J8d6-uNtkh",
        "outputId": "10298d02-d312-471d-ac39-8700517d8bf1",
        "colab": {
          "base_uri": "https://localhost:8080/",
          "height": 53
        }
      },
      "source": [
        "model.evaluate(x_test, y_test)"
      ],
      "execution_count": 16,
      "outputs": [
        {
          "output_type": "stream",
          "text": [
            "313/313 [==============================] - 2s 7ms/step - loss: 0.2321 - accuracy: 0.9854\n"
          ],
          "name": "stdout"
        },
        {
          "output_type": "execute_result",
          "data": {
            "text/plain": [
              "[0.23205964267253876, 0.9854000210762024]"
            ]
          },
          "metadata": {
            "tags": []
          },
          "execution_count": 16
        }
      ]
    },
    {
      "cell_type": "markdown",
      "metadata": {
        "id": "2NJbQiYYOmyo"
      },
      "source": [
        "## 4.1 Matriz de Confusão"
      ]
    },
    {
      "cell_type": "code",
      "metadata": {
        "id": "W9JYgvbt13pK",
        "outputId": "8d6b395f-669f-4e3b-cb4a-4f03d3e2d5fe",
        "colab": {
          "base_uri": "https://localhost:8080/",
          "height": 35
        }
      },
      "source": [
        "Ypred = model.predict(x_test)\n",
        "Ypred = np.argmax(Ypred, axis=1)\n",
        "Ypred"
      ],
      "execution_count": 17,
      "outputs": [
        {
          "output_type": "execute_result",
          "data": {
            "text/plain": [
              "array([7, 2, 1, ..., 4, 5, 6])"
            ]
          },
          "metadata": {
            "tags": []
          },
          "execution_count": 17
        }
      ]
    },
    {
      "cell_type": "code",
      "metadata": {
        "id": "jDd_i9Pa2MAP",
        "outputId": "09879e32-2811-42bd-8e28-c63358992245",
        "colab": {
          "base_uri": "https://localhost:8080/",
          "height": 35
        }
      },
      "source": [
        "y_test"
      ],
      "execution_count": 18,
      "outputs": [
        {
          "output_type": "execute_result",
          "data": {
            "text/plain": [
              "array([7, 2, 1, ..., 4, 5, 6], dtype=uint8)"
            ]
          },
          "metadata": {
            "tags": []
          },
          "execution_count": 18
        }
      ]
    },
    {
      "cell_type": "code",
      "metadata": {
        "id": "vzrSWzaq2VKG"
      },
      "source": [
        "cm = confusion_matrix(y_test, Ypred)"
      ],
      "execution_count": 21,
      "outputs": []
    },
    {
      "cell_type": "code",
      "metadata": {
        "id": "0UJ6cF562XP_",
        "outputId": "db7ed605-05d9-4964-c952-114ca9a1c117",
        "colab": {
          "base_uri": "https://localhost:8080/",
          "height": 513
        }
      },
      "source": [
        "plt.figure(figsize=(11, 8))\n",
        "sns.set(font_scale=1.4)\n",
        "ax = sns.heatmap(cm,annot=True,fmt='g',annot_kws={'size':14} ,square=True,cmap='rocket_r')\n",
        "ax.set_ylabel('Digitos Reais', fontsize=20)\n",
        "ax.set_xlabel('Digitos Previstos', fontsize=20)\n",
        "plt.show()"
      ],
      "execution_count": 22,
      "outputs": [
        {
          "output_type": "display_data",
          "data": {
            "image/png": "[encoded data removed]",
            "text/plain": [
              "<Figure size 792x576 with 2 Axes>"
            ]
          },
          "metadata": {
            "tags": [],
            "needs_background": "light"
          }
        }
      ]
    },
    {
      "cell_type": "markdown",
      "metadata": {
        "id": "IrZ-YCcJ14DC"
      },
      "source": [
        "## 5. Prevendo um valor Especifico"
      ]
    },
    {
      "cell_type": "code",
      "metadata": {
        "id": "tzq175lfODuP",
        "outputId": "33a819a5-ef77-4ae0-80fa-4a223e3d7f8d",
        "colab": {
          "base_uri": "https://localhost:8080/",
          "height": 293
        }
      },
      "source": [
        "image_index = 4444\n",
        "plt.imshow(x_test[image_index].reshape(28, 28),cmap='Greys')\n",
        "pred = model.predict(x_test[image_index].reshape(1, 28, 28, 1))\n",
        "print(pred.argmax())"
      ],
      "execution_count": 23,
      "outputs": [
        {
          "output_type": "stream",
          "text": [
            "9\n"
          ],
          "name": "stdout"
        },
        {
          "output_type": "display_data",
          "data": {
            "image/png": "[encoded data removed]",
            "text/plain": [
              "<Figure size 432x288 with 1 Axes>"
            ]
          },
          "metadata": {
            "tags": []
          }
        }
      ]
    },
    {
      "cell_type": "code",
      "metadata": {
        "id": "JD1wxllBL9yl"
      },
      "source": [
        ""
      ],
      "execution_count": null,
      "outputs": []
    }
  ]
}